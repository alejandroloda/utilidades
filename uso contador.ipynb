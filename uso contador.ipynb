{
 "cells": [
  {
   "cell_type": "markdown",
   "metadata": {},
   "source": [
    "# Uso\n",
    "**Contador(name, total, each=1000, print_bool=True, print_color=False, color_name=\"red\")**"
   ]
  },
  {
   "cell_type": "markdown",
   "metadata": {},
   "source": [
    "## Importar"
   ]
  },
  {
   "cell_type": "code",
   "execution_count": 1,
   "metadata": {
    "ExecuteTime": {
     "end_time": "2020-05-15T16:50:54.823332Z",
     "start_time": "2020-05-15T16:50:54.538319Z"
    }
   },
   "outputs": [],
   "source": [
    "from contador import Contador"
   ]
  },
  {
   "cell_type": "markdown",
   "metadata": {},
   "source": [
    "## Uso simple"
   ]
  },
  {
   "cell_type": "code",
   "execution_count": 2,
   "metadata": {
    "ExecuteTime": {
     "end_time": "2020-05-15T16:50:54.832106Z",
     "start_time": "2020-05-15T16:50:54.824281Z"
    }
   },
   "outputs": [
    {
     "name": "stdout",
     "output_type": "stream",
     "text": [
      "mi contador: 1000/5000 20.0%\tTimeFromZero: 0:00:00\tEachIter: 0:00:00\tAproxLeft: 0:00:00 \n",
      "mi contador: 2000/5000 40.0%\tTimeFromZero: 0:00:00\tEachIter: 0:00:00\tAproxLeft: 0:00:00 \n",
      "mi contador: 3000/5000 60.0%\tTimeFromZero: 0:00:00\tEachIter: 0:00:00\tAproxLeft: 0:00:00 \n",
      "mi contador: 4000/5000 80.0%\tTimeFromZero: 0:00:00\tEachIter: 0:00:00\tAproxLeft: 0:00:00 \n",
      "mi contador: 5000/5000 100.0%\tTimeFromZero: 0:00:00\tEachIter: 0:00:00\tAproxLeft: 0:00:00 \n"
     ]
    }
   ],
   "source": [
    "con = Contador('mi contador', 5000)\n",
    "for i in range(5000):\n",
    "    con.inc()"
   ]
  },
  {
   "cell_type": "markdown",
   "metadata": {},
   "source": [
    "## Con color"
   ]
  },
  {
   "cell_type": "code",
   "execution_count": 3,
   "metadata": {
    "ExecuteTime": {
     "end_time": "2020-05-15T16:50:54.847706Z",
     "start_time": "2020-05-15T16:50:54.834040Z"
    }
   },
   "outputs": [
    {
     "name": "stdout",
     "output_type": "stream",
     "text": [
      "\u001b[31mmi contador: 1000/50000 2.0%\tTimeFromZero: 0:00:00\tEachIter: 0:00:00\tAproxLeft: 0:00:00 \u001b[0m\n",
      "\u001b[31mmi contador: 2000/50000 4.0%\tTimeFromZero: 0:00:00\tEachIter: 0:00:00\tAproxLeft: 0:00:00 \u001b[0m\n",
      "\u001b[31mmi contador: 3000/50000 6.0%\tTimeFromZero: 0:00:00\tEachIter: 0:00:00\tAproxLeft: 0:00:00 \u001b[0m\n",
      "\u001b[31mmi contador: 4000/50000 8.0%\tTimeFromZero: 0:00:00\tEachIter: 0:00:00\tAproxLeft: 0:00:00 \u001b[0m\n",
      "\u001b[31mmi contador: 5000/50000 10.0%\tTimeFromZero: 0:00:00\tEachIter: 0:00:00\tAproxLeft: 0:00:00 \u001b[0m\n"
     ]
    }
   ],
   "source": [
    "con = Contador('mi contador', 50000, print_color=True)\n",
    "for i in range(5000):\n",
    "    con.inc()"
   ]
  },
  {
   "cell_type": "code",
   "execution_count": 4,
   "metadata": {
    "ExecuteTime": {
     "end_time": "2020-05-15T16:50:54.867347Z",
     "start_time": "2020-05-15T16:50:54.857559Z"
    }
   },
   "outputs": [
    {
     "name": "stdout",
     "output_type": "stream",
     "text": [
      "\u001b[95mmi contador: 1000/50000 2.0%\tTimeFromZero: 0:00:00\tEachIter: 0:00:00\tAproxLeft: 0:00:00 \u001b[0m\n",
      "\u001b[95mmi contador: 2000/50000 4.0%\tTimeFromZero: 0:00:00\tEachIter: 0:00:00\tAproxLeft: 0:00:00 \u001b[0m\n",
      "\u001b[95mmi contador: 3000/50000 6.0%\tTimeFromZero: 0:00:00\tEachIter: 0:00:00\tAproxLeft: 0:00:00 \u001b[0m\n",
      "\u001b[95mmi contador: 4000/50000 8.0%\tTimeFromZero: 0:00:00\tEachIter: 0:00:00\tAproxLeft: 0:00:00 \u001b[0m\n",
      "\u001b[95mmi contador: 5000/50000 10.0%\tTimeFromZero: 0:00:00\tEachIter: 0:00:00\tAproxLeft: 0:00:00 \u001b[0m\n"
     ]
    }
   ],
   "source": [
    "con = Contador('mi contador', 50000, print_color=True, color_name='rand')\n",
    "for i in range(5000):\n",
    "    con.inc()"
   ]
  },
  {
   "cell_type": "code",
   "execution_count": 5,
   "metadata": {
    "ExecuteTime": {
     "end_time": "2020-05-15T16:50:54.867347Z",
     "start_time": "2020-05-15T16:50:54.857559Z"
    }
   },
   "outputs": [
    {
     "name": "stdout",
     "output_type": "stream",
     "text": [
      "\u001b[33mmi contador: 1000/50000 2.0%\tTimeFromZero: 0:00:00\tEachIter: 0:00:00\tAproxLeft: 0:00:00 \u001b[0m\n",
      "\u001b[33mmi contador: 2000/50000 4.0%\tTimeFromZero: 0:00:00\tEachIter: 0:00:00\tAproxLeft: 0:00:00 \u001b[0m\n",
      "\u001b[33mmi contador: 3000/50000 6.0%\tTimeFromZero: 0:00:00\tEachIter: 0:00:00\tAproxLeft: 0:00:00 \u001b[0m\n",
      "\u001b[33mmi contador: 4000/50000 8.0%\tTimeFromZero: 0:00:00\tEachIter: 0:00:00\tAproxLeft: 0:00:00 \u001b[0m\n",
      "\u001b[33mmi contador: 5000/50000 10.0%\tTimeFromZero: 0:00:00\tEachIter: 0:00:00\tAproxLeft: 0:00:00 \u001b[0m\n"
     ]
    }
   ],
   "source": [
    "con = Contador('mi contador', 50000, print_color=True,color_name='yellow')\n",
    "for i in range(5000):\n",
    "    con.inc()"
   ]
  },
  {
   "cell_type": "code",
   "execution_count": 6,
   "metadata": {
    "ExecuteTime": {
     "end_time": "2020-05-15T16:50:54.872227Z",
     "start_time": "2020-05-15T16:50:54.868294Z"
    }
   },
   "outputs": [
    {
     "name": "stdout",
     "output_type": "stream",
     "text": [
      "\u001b[31mred\u001b[0m\n",
      "\u001b[32mgreen\u001b[0m\n",
      "\u001b[33myellow\u001b[0m\n",
      "\u001b[34mblue\u001b[0m\n",
      "\u001b[35mmagenta\u001b[0m\n",
      "\u001b[36mcyan\u001b[0m\n",
      "\u001b[37mlight_gray\u001b[0m\n",
      "\u001b[90mdark_gray\u001b[0m\n",
      "\u001b[91mlight_red\u001b[0m\n",
      "\u001b[92mlight_green\u001b[0m\n",
      "\u001b[93mlight_yellow\u001b[0m\n",
      "\u001b[94mlight_blue\u001b[0m\n",
      "\u001b[95mlight_magenta\u001b[0m\n",
      "\u001b[96mlight_cyan\u001b[0m\n",
      "\u001b[97mwhite\u001b[0m\n"
     ]
    }
   ],
   "source": [
    "Contador.pretty_list_colors()"
   ]
  },
  {
   "cell_type": "markdown",
   "metadata": {},
   "source": [
    "## Imprimir con color normal"
   ]
  },
  {
   "cell_type": "code",
   "execution_count": 7,
   "metadata": {
    "ExecuteTime": {
     "end_time": "2020-05-15T16:50:54.880983Z",
     "start_time": "2020-05-15T16:50:54.873173Z"
    }
   },
   "outputs": [
    {
     "name": "stdout",
     "output_type": "stream",
     "text": [
      "\u001b[31mhola\u001b[0m\n"
     ]
    }
   ],
   "source": [
    "Contador.print(\"hola\")"
   ]
  },
  {
   "cell_type": "code",
   "execution_count": 10,
   "metadata": {
    "ExecuteTime": {
     "end_time": "2020-05-15T16:50:58.835575Z",
     "start_time": "2020-05-15T16:50:58.831669Z"
    }
   },
   "outputs": [
    {
     "name": "stdout",
     "output_type": "stream",
     "text": [
      "\u001b[92mhola\u001b[0m\n"
     ]
    }
   ],
   "source": [
    "Contador.print(\"hola\",'rand')"
   ]
  },
  {
   "cell_type": "markdown",
   "metadata": {},
   "source": [
    "## Cada X veces imprimir"
   ]
  },
  {
   "cell_type": "code",
   "execution_count": 12,
   "metadata": {
    "ExecuteTime": {
     "end_time": "2020-05-15T16:51:50.335702Z",
     "start_time": "2020-05-15T16:51:50.331821Z"
    }
   },
   "outputs": [
    {
     "name": "stdout",
     "output_type": "stream",
     "text": [
      "mi contador: 2/10 20.0%\tTimeFromZero: 0:00:00\tEachIter: 0:00:00\tAproxLeft: 0:00:00 \n",
      "mi contador: 4/10 40.0%\tTimeFromZero: 0:00:00\tEachIter: 0:00:00\tAproxLeft: 0:00:00 \n",
      "mi contador: 6/10 60.0%\tTimeFromZero: 0:00:00\tEachIter: 0:00:00\tAproxLeft: 0:00:00 \n",
      "mi contador: 8/10 80.0%\tTimeFromZero: 0:00:00\tEachIter: 0:00:00\tAproxLeft: 0:00:00 \n",
      "mi contador: 10/10 100.0%\tTimeFromZero: 0:00:00\tEachIter: 0:00:00\tAproxLeft: 0:00:00 \n"
     ]
    }
   ],
   "source": [
    "x = 2\n",
    "con = Contador('mi contador', 10, x)\n",
    "for i in range(10):\n",
    "    con.inc()"
   ]
  },
  {
   "cell_type": "code",
   "execution_count": 13,
   "metadata": {
    "ExecuteTime": {
     "end_time": "2020-05-15T16:52:03.183302Z",
     "start_time": "2020-05-15T16:52:03.179398Z"
    }
   },
   "outputs": [
    {
     "name": "stdout",
     "output_type": "stream",
     "text": [
      "\u001b[31mmi contador: 2/10 20.0%\tTimeFromZero: 0:00:00\tEachIter: 0:00:00\tAproxLeft: 0:00:00 \u001b[0m\n",
      "\u001b[31mmi contador: 4/10 40.0%\tTimeFromZero: 0:00:00\tEachIter: 0:00:00\tAproxLeft: 0:00:00 \u001b[0m\n",
      "\u001b[31mmi contador: 6/10 60.0%\tTimeFromZero: 0:00:00\tEachIter: 0:00:00\tAproxLeft: 0:00:00 \u001b[0m\n",
      "\u001b[31mmi contador: 8/10 80.0%\tTimeFromZero: 0:00:00\tEachIter: 0:00:00\tAproxLeft: 0:00:00 \u001b[0m\n",
      "\u001b[31mmi contador: 10/10 100.0%\tTimeFromZero: 0:00:00\tEachIter: 0:00:00\tAproxLeft: 0:00:00 \u001b[0m\n"
     ]
    }
   ],
   "source": [
    "x = 2\n",
    "con = Contador('mi contador', 10, x, print_color=True)\n",
    "for i in range(10):\n",
    "    con.inc()"
   ]
  },
  {
   "cell_type": "markdown",
   "metadata": {},
   "source": [
    "## Con un Dataframe"
   ]
  },
  {
   "cell_type": "code",
   "execution_count": 33,
   "metadata": {
    "ExecuteTime": {
     "end_time": "2020-05-15T16:56:08.142369Z",
     "start_time": "2020-05-15T16:56:08.133179Z"
    }
   },
   "outputs": [
    {
     "data": {
      "text/html": [
       "<div>\n",
       "<style scoped>\n",
       "    .dataframe tbody tr th:only-of-type {\n",
       "        vertical-align: middle;\n",
       "    }\n",
       "\n",
       "    .dataframe tbody tr th {\n",
       "        vertical-align: top;\n",
       "    }\n",
       "\n",
       "    .dataframe thead th {\n",
       "        text-align: right;\n",
       "    }\n",
       "</style>\n",
       "<table border=\"1\" class=\"dataframe\">\n",
       "  <thead>\n",
       "    <tr style=\"text-align: right;\">\n",
       "      <th></th>\n",
       "      <th>0</th>\n",
       "      <th>1</th>\n",
       "      <th>2</th>\n",
       "    </tr>\n",
       "  </thead>\n",
       "  <tbody>\n",
       "    <tr>\n",
       "      <th>0</th>\n",
       "      <td>0</td>\n",
       "      <td>1</td>\n",
       "      <td>2</td>\n",
       "    </tr>\n",
       "    <tr>\n",
       "      <th>1</th>\n",
       "      <td>3</td>\n",
       "      <td>4</td>\n",
       "      <td>5</td>\n",
       "    </tr>\n",
       "    <tr>\n",
       "      <th>2</th>\n",
       "      <td>6</td>\n",
       "      <td>7</td>\n",
       "      <td>8</td>\n",
       "    </tr>\n",
       "    <tr>\n",
       "      <th>3</th>\n",
       "      <td>9</td>\n",
       "      <td>10</td>\n",
       "      <td>11</td>\n",
       "    </tr>\n",
       "  </tbody>\n",
       "</table>\n",
       "</div>"
      ],
      "text/plain": [
       "   0   1   2\n",
       "0  0   1   2\n",
       "1  3   4   5\n",
       "2  6   7   8\n",
       "3  9  10  11"
      ]
     },
     "execution_count": 33,
     "metadata": {},
     "output_type": "execute_result"
    }
   ],
   "source": [
    "import pandas as pd\n",
    "df = pd.DataFrame([[0,1,2],[3,4,5],[6,7,8],[9,10,11]])\n",
    "df"
   ]
  },
  {
   "cell_type": "code",
   "execution_count": 48,
   "metadata": {
    "ExecuteTime": {
     "end_time": "2020-05-15T16:59:31.575878Z",
     "start_time": "2020-05-15T16:59:31.570975Z"
    }
   },
   "outputs": [
    {
     "name": "stdout",
     "output_type": "stream",
     "text": [
      "\u001b[94mmi contador: 1/4 25.0%\tTimeFromZero: 0:00:00\tEachIter: 0:00:00\tAproxLeft: 0:00:00 \u001b[0m\n",
      "\u001b[94mmi contador: 2/4 50.0%\tTimeFromZero: 0:00:00\tEachIter: 0:00:00\tAproxLeft: 0:00:00 \u001b[0m\n",
      "\u001b[94mmi contador: 3/4 75.0%\tTimeFromZero: 0:00:00\tEachIter: 0:00:00\tAproxLeft: 0:00:00 \u001b[0m\n",
      "\u001b[94mmi contador: 4/4 100.0%\tTimeFromZero: 0:00:00\tEachIter: 0:00:00\tAproxLeft: 0:00:00 \u001b[0m\n"
     ]
    }
   ],
   "source": [
    "con = Contador('mi contador', df, each=1,print_color=True, color_name='light_blue')\n",
    "for i, row in df.iterrows():\n",
    "    con.inc()"
   ]
  },
  {
   "cell_type": "code",
   "execution_count": 49,
   "metadata": {
    "ExecuteTime": {
     "end_time": "2020-05-15T16:59:31.733581Z",
     "start_time": "2020-05-15T16:59:31.730652Z"
    }
   },
   "outputs": [
    {
     "name": "stdout",
     "output_type": "stream",
     "text": [
      "\u001b[94mmi contador: 4/4 100.0%\tTimeFromZero: 0:00:00\tEachIter: 0:00:00\tAproxLeft: 0:00:00 \u001b[0m\n"
     ]
    }
   ],
   "source": [
    "print(con)"
   ]
  },
  {
   "cell_type": "markdown",
   "metadata": {},
   "source": [
    "## No imprimir"
   ]
  },
  {
   "cell_type": "code",
   "execution_count": 44,
   "metadata": {
    "ExecuteTime": {
     "end_time": "2020-05-15T16:59:22.454242Z",
     "start_time": "2020-05-15T16:59:22.451315Z"
    }
   },
   "outputs": [],
   "source": [
    "con = Contador('mi contador', 10, print_bool=False)\n",
    "for i in range(10):\n",
    "    con.inc()"
   ]
  },
  {
   "cell_type": "code",
   "execution_count": 45,
   "metadata": {
    "ExecuteTime": {
     "end_time": "2020-05-15T16:59:22.639796Z",
     "start_time": "2020-05-15T16:59:22.635892Z"
    }
   },
   "outputs": [
    {
     "data": {
      "text/plain": [
       "mi contador: 10/10 100.0%\tTimeFromZero: 0:00:00\tEachIter: 0:00:00\tAproxLeft: 0:00:00 "
      ]
     },
     "execution_count": 45,
     "metadata": {},
     "output_type": "execute_result"
    }
   ],
   "source": [
    "con"
   ]
  },
  {
   "cell_type": "code",
   "execution_count": 46,
   "metadata": {
    "ExecuteTime": {
     "end_time": "2020-05-15T16:59:22.984011Z",
     "start_time": "2020-05-15T16:59:22.979132Z"
    }
   },
   "outputs": [
    {
     "name": "stdout",
     "output_type": "stream",
     "text": [
      "mi contador: 10/10 100.0%\tTimeFromZero: 0:00:00\tEachIter: 0:00:00\tAproxLeft: 0:00:00 \n"
     ]
    }
   ],
   "source": [
    "print(con)"
   ]
  },
  {
   "cell_type": "code",
   "execution_count": null,
   "metadata": {},
   "outputs": [],
   "source": []
  }
 ],
 "metadata": {
  "hide_input": false,
  "kernelspec": {
   "display_name": "Python 3",
   "language": "python",
   "name": "python3"
  },
  "language_info": {
   "codemirror_mode": {
    "name": "ipython",
    "version": 3
   },
   "file_extension": ".py",
   "mimetype": "text/x-python",
   "name": "python",
   "nbconvert_exporter": "python",
   "pygments_lexer": "ipython3",
   "version": "3.7.2"
  },
  "toc": {
   "base_numbering": 1,
   "nav_menu": {},
   "number_sections": false,
   "sideBar": true,
   "skip_h1_title": false,
   "title_cell": "Table of Contents",
   "title_sidebar": "Contents",
   "toc_cell": false,
   "toc_position": {},
   "toc_section_display": true,
   "toc_window_display": false
  },
  "varInspector": {
   "cols": {
    "lenName": 16,
    "lenType": 16,
    "lenVar": 40
   },
   "kernels_config": {
    "python": {
     "delete_cmd_postfix": "",
     "delete_cmd_prefix": "del ",
     "library": "var_list.py",
     "varRefreshCmd": "print(var_dic_list())"
    },
    "r": {
     "delete_cmd_postfix": ") ",
     "delete_cmd_prefix": "rm(",
     "library": "var_list.r",
     "varRefreshCmd": "cat(var_dic_list()) "
    }
   },
   "types_to_exclude": [
    "module",
    "function",
    "builtin_function_or_method",
    "instance",
    "_Feature"
   ],
   "window_display": false
  }
 },
 "nbformat": 4,
 "nbformat_minor": 4
}
